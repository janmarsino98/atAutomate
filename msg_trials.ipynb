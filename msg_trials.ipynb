{
 "cells": [
  {
   "cell_type": "code",
   "execution_count": 1,
   "metadata": {},
   "outputs": [],
   "source": [
    "import requests\n",
    "\n",
    "messages_url = \"https://www.airtasker.com/api/v2/account/tasks?limit=100&after=0&sort_by=last_message_desc&private_messages=true&my_tasks=true\"\n",
    "\n",
    "msg_cookies = {\n",
    "        \"at_sid\":\"9d725325-fc38-431c-9bcc-8f37bfd66a49\"\n",
    "    }\n",
    "\n",
    "msg_headers = {\n",
    "    \"User-Agent\":\"Mozilla/5.0 (Windows NT 10.0; Win64; x64) AppleWebKit/537.36 (KHTML, like Gecko) Chrome/126.0.0.0 Safari/537.36\"\n",
    "}\n",
    "\n",
    "response = requests.get(messages_url, cookies=msg_cookies, headers=msg_headers)"
   ]
  },
  {
   "cell_type": "code",
   "execution_count": 8,
   "metadata": {},
   "outputs": [
    {
     "data": {
      "text/plain": [
       "dict_keys(['locations', 'profiles', 'last_messages', 'tasks', 'meta'])"
      ]
     },
     "execution_count": 8,
     "metadata": {},
     "output_type": "execute_result"
    }
   ],
   "source": [
    "r = response.json()\n",
    "r.keys()"
   ]
  },
  {
   "cell_type": "code",
   "execution_count": 16,
   "metadata": {},
   "outputs": [
    {
     "name": "stdout",
     "output_type": "stream",
     "text": [
      "{'id': 60053463, 'body': \"I haven't received a response yet\", 'read': False, 'created_at': '2024-07-20T01:32:06+10:00', 'task_id': 15421186, 'recipient_id': 2846935, 'author_id': 7184307}\n",
      "{'id': 60053463, 'body': \"I haven't received a response yet\", 'read': False, 'created_at': '2024-07-20T01:32:06+10:00', 'task_id': 15421186, 'recipient_id': 2846935, 'author_id': 7184307}\n",
      "{'default_location_id': None, 'runners_required_count': 1, 'runners_assigned_count': 1, 'project': False, 'origin_task_id': None, 'origin_task_slug': None, 'clone_task_ids': [], 'clone_task_slugs': [], 'first_runners_required_count': 1, 'id': 15421186, 'name': 'Tidy up data in excel format', 'slug': 'tidy-up-data-in-excel-format-x01hz2z59zpksb3dh4z5an312sk', 'bids_count': 3, 'price': 20, 'assigned_price': 20, 'amount': 2000, 'comments_count': 7, 'deadline': '2024-05-30T00:00:00+10:00', 'online_or_phone': True, 'fixed_price': False, 'state': 'completed', 'updated_at': '2024-07-20T01:32:06+10:00', 'created_at': '2024-05-30T06:02:45+10:00', 'first_posted_at': '2024-05-30T06:02:45+10:00', 'posted_or_edited_at': '2024-05-30T06:02:45+10:00', 'private_messages_count': 11, 'runner_requirements': {}, 'badge_requirements': [], 'badges': [], 'total_price': 2000, 'region_id': 1, 'flexible_deadline': False, 'semantic_due_date': 'Before Thu, 30 May', 'sender_id': 2846935, 'runner_id': 7184307, 'private_messages_unread_count': 0, 'last_message_at': '2024-07-20T01:32:06+10:00', 'review_required': False, 'sender_review_present': False, 'runner_review_present': False, 'reviews_completed': False, 'sort': 4, 'last_message_id': 60053463, 'bid_on': True, 'deadline_required': False, 'specified_times': {'midday': False, 'evening': False, 'morning': True, 'afternoon': False}, 'carl_category_name': 'Data Entry / Processing / eCommerce Listing', 'prepaid': True}\n"
     ]
    }
   ],
   "source": [
    "print(r[\"last_messages\"][0])\n",
    "x = r[\"tasks\"][0][\"id\"]\n",
    "\n",
    "for msg in r[\"last_messages\"]:\n",
    "    if msg[\"task_id\"] == x:\n",
    "        print(msg)\n",
    "        "
   ]
  },
  {
   "cell_type": "code",
   "execution_count": 19,
   "metadata": {},
   "outputs": [],
   "source": [
    "import pandas as pd\n",
    "\n",
    "df = pd.DataFrame(r[\"tasks\"])\n"
   ]
  },
  {
   "cell_type": "code",
   "execution_count": 2,
   "metadata": {},
   "outputs": [],
   "source": [
    "url = \"https://www.airtasker.com/api/v2/tasks?limit=8&path=tasks&threaded_comments=true&task_states=Cassigned%2Ccompleted%2Coverdue%2Cclosed&lat=-33.907256&lon=151.207706&location_name=Zetland%20NSW%2C%20Australia&task_types=both&radius=50000&carl_ids=&disable_recommendations=false&badges=&max_price=9999&min_price=5&sort_by=posted_desc&after_time=2024-06-02T21%3A09%3A31%2B10%3A00\""
   ]
  },
  {
   "cell_type": "code",
   "execution_count": 7,
   "metadata": {},
   "outputs": [],
   "source": [
    "import requests\n",
    "import constants as c\n",
    "r = requests.get(url, headers=c.HEADERS)"
   ]
  },
  {
   "cell_type": "code",
   "execution_count": 29,
   "metadata": {},
   "outputs": [],
   "source": [
    "from bs4 import BeautifulSoup as bs\n",
    "\n",
    "url = \"https://www.airtasker.com/tasks/help-me-move-home-x01j3dafaehyspkxf6q2bnng31s/\"\n",
    "\n",
    "r = requests.get(url, headers=c.HEADERS, cookies=c.COOKIES)\n",
    "\n",
    "s = bs(r.content, \"html.parser\")"
   ]
  },
  {
   "cell_type": "code",
   "execution_count": 31,
   "metadata": {},
   "outputs": [
    {
     "ename": "ModuleNotFoundError",
     "evalue": "No module named 'cfscrape'",
     "output_type": "error",
     "traceback": [
      "\u001b[1;31m---------------------------------------------------------------------------\u001b[0m",
      "\u001b[1;31mModuleNotFoundError\u001b[0m                       Traceback (most recent call last)",
      "Input \u001b[1;32mIn [31]\u001b[0m, in \u001b[0;36m<cell line: 1>\u001b[1;34m()\u001b[0m\n\u001b[1;32m----> 1\u001b[0m \u001b[38;5;28;01mimport\u001b[39;00m \u001b[38;5;21;01mcfscrape\u001b[39;00m\n\u001b[0;32m      2\u001b[0m \u001b[38;5;28;01mimport\u001b[39;00m \u001b[38;5;21;01mrequests\u001b[39;00m\n\u001b[0;32m      3\u001b[0m \u001b[38;5;28;01mimport\u001b[39;00m \u001b[38;5;21;01mos\u001b[39;00m\n",
      "\u001b[1;31mModuleNotFoundError\u001b[0m: No module named 'cfscrape'"
     ]
    }
   ],
   "source": [
    "import cfscrape\n",
    "import requests\n",
    "import os\n",
    "from bs4 import BeautifulSoup\n",
    "import re\n",
    "\n",
    "# Requests wrapper\n",
    "#url = 'https://www.acgnx.se/'\n",
    "url = \"https://www.airtasker.com/tasks/help-me-move-home-x01j3dafaehyspkxf6q2bnng31s/\"\n",
    "session = requests.session()\n",
    "session.headers = 'content-type'\n",
    "session.mount(\"http://\", cfscrape.CloudflareScraper())\n",
    "scraper = cfscrape.create_scraper(sess=session)\n",
    "req = scraper.get(url).content\n",
    "#print req"
   ]
  }
 ],
 "metadata": {
  "kernelspec": {
   "display_name": "Python 3",
   "language": "python",
   "name": "python3"
  },
  "language_info": {
   "codemirror_mode": {
    "name": "ipython",
    "version": 3
   },
   "file_extension": ".py",
   "mimetype": "text/x-python",
   "name": "python",
   "nbconvert_exporter": "python",
   "pygments_lexer": "ipython3",
   "version": "3.10.5"
  }
 },
 "nbformat": 4,
 "nbformat_minor": 2
}
