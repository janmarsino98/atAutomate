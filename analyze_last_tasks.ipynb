{
 "cells": [
  {
   "cell_type": "code",
   "execution_count": 2,
   "metadata": {},
   "outputs": [],
   "source": [
    "import requests\n",
    "\n",
    "url = \"https://www.airtasker.com/api/v2/tasks?limit=300&path=tasks&threaded_comments=true&task_states=completed&after=0&search_term=resume&lat=-33.907256&lon=151.207706&location_name=Zetland%20NSW%2C%20Australia&task_types=both&radius=50000&carl_ids=&disable_recommendations=false&badges=&max_price=9999&min_price=5&sort_by=posted_desc&save_filters=true\""
   ]
  },
  {
   "cell_type": "code",
   "execution_count": 3,
   "metadata": {},
   "outputs": [
    {
     "data": {
      "text/plain": [
       "200"
      ]
     },
     "execution_count": 3,
     "metadata": {},
     "output_type": "execute_result"
    }
   ],
   "source": [
    "import constants as c\n",
    "\n",
    "r = requests.get(url, headers=c.HEADERS)\n",
    "r.status_code\n"
   ]
  },
  {
   "cell_type": "code",
   "execution_count": 4,
   "metadata": {},
   "outputs": [
    {
     "data": {
      "text/plain": [
       "['en-resume-with-no-experience-x01j3cg2j5xvf4b3x561fckxzde',\n",
       " 'general-resume-x01j3krey7s7z093j2f2enxrkxj',\n",
       " 'copy-doc-into-canva-template-immediately-x01j3kjp4ck2ce0nwd3g4amz68j',\n",
       " 'help-with-my-resume-x01j3ht5rt9k7npmgf1jqq9mya0',\n",
       " 'convert-pdf-to-word-x01j3h3gk4f0qf6rb2dmbgdzfr8',\n",
       " 'resume-editing-x01j344mn2z2mvahyhaxfdtjpqr',\n",
       " 'resume-and-cover-letter-x01j3e90h3xav5mypgqsr5ydzy9',\n",
       " 'ats-compliant-resume-key-selection-criteria-cover-letter-x01j3cqc612j9k9fmsvddzh009c',\n",
       " 'resume-and-cover-letter-x01j38ep5skgadfsyh3mvpycfvp',\n",
       " 'resume-and-cover-letter-x01j36n19h3v4pe3zdm1q2x5000',\n",
       " 'cover-letter-for-job-linkedin-profile-x01j346wtawrpjna0gwystw20nk',\n",
       " 'resume-write-up-for-few-specific-roles-x01j2zz8d2nk2729nnhbfajs46n',\n",
       " 'update-previous-job-on-resume-and-create-cover-letter-x01j2yf7exf33cq9nyn8tpxn5rp',\n",
       " 'need-resume-made-all-info-already-provided-x01j2tbhvd1cdp48x4s8gw5b9tf',\n",
       " 'resume-reworking-help-x01j2mzzcwv2rmhdjj1rbtt9dt9',\n",
       " 'resume-write-x01j2d0kvh01yhqt1s0h3f9w53k',\n",
       " 'need-a-professional-resume-and-cover-letter-done-x01j27psc5yx2apywejsxbpzgad',\n",
       " 'looking-for-someone-to-update-my-resume-for-senior-level-finance-jobs-x01j1spjp8a12tdaj90v15d8wtz',\n",
       " 'cover-letter-resume-queensland-government-x01j0zr8bcjddgdw56pwkn2dcvt',\n",
       " 'resume-and-linkedin-professional-update-x01j0wwf4cfza6nrvwb4en2y6ht',\n",
       " 'update-resume-x01j0m1h0veeektexgfkd3ddddv',\n",
       " 're-write-resume-into-one-high-scoring-ats-x01j0j0ra986gm7mxwww33ja2av',\n",
       " 'hi-i-need-my-resume-copied-with-uniform-fonts-and-margins-x01hznh95pw7wjhfjjg8evdw889',\n",
       " 'update-my-resume-and-a-generic-cover-letter-x01hywvjswr7hkd1xjf4fbwpyx3',\n",
       " 'professional-resume-for-visa-application-x01hy00ntcrqq8w7wy5jq0a4jmm',\n",
       " 'help-with-resume-cover-letter-and-linkedin-edits-x01hxwr490a06r1aph8ebm6efmr',\n",
       " 'resume-rewrite-x01hxt05ck8tsdmhpwfstqwz9rn',\n",
       " 'i-need-help-to-build-my-resume-x01hwy48wddg0fya1n1hbrhhydv',\n",
       " 'resume-help-x01hwsxr12ekdznfsw79kdfryjc']"
      ]
     },
     "execution_count": 4,
     "metadata": {},
     "output_type": "execute_result"
    }
   ],
   "source": [
    "data = r.json()\n",
    "\n",
    "links = []\n",
    "for task in data[\"tasks\"]:\n",
    "    links.append(task[\"slug\"])\n",
    "    \n",
    "links"
   ]
  },
  {
   "cell_type": "code",
   "execution_count": null,
   "metadata": {},
   "outputs": [],
   "source": [
    "for link in links:\n",
    "    task_url = f\"https://www.airtasker.com/api/v2/tasks/{link}/\"\n",
    "    new_r = requests.get(task_url, headers=c.HEADERS)\n",
    "    new_data = new_r.json()\n",
    "    print(new_r.status_code)\n",
    "    print(new_data.keys())\n",
    "    comment_id = None\n",
    "    for bid in new_data[\"bids\"]:\n",
    "        if bid[\"accepted\"] == True:\n",
    "            comment_id = bid[\"comment_id\"]\n",
    "            continue\n",
    "            \n",
    "        for comment in new_data[\"comments\"]:\n",
    "            if comment[\"id\"] == comment_id:\n",
    "                print(comment[\"body\"])\n",
    "                continue"
   ]
  },
  {
   "cell_type": "code",
   "execution_count": 23,
   "metadata": {},
   "outputs": [],
   "source": [
    "\n",
    "\n",
    "def get_assigned_comment(slug):\n",
    "    task_url = f\"https://www.airtasker.com/api/v2/tasks/{slug}/\"\n",
    "    new_r = requests.get(task_url, headers=c.HEADERS)\n",
    "    data = new_r.json()\n",
    "    task_description = data[\"task\"][\"description\"]\n",
    "    task_name = data[\"task\"][\"name\"]\n",
    "    for bid in data[\"bids\"]:\n",
    "        if bid[\"accepted\"] == True:\n",
    "            accepted_comment_id = bid[\"comment_id\"]\n",
    "            \n",
    "    for comment in data[\"comments\"]:\n",
    "        if comment[\"id\"] == accepted_comment_id:\n",
    "            accepted_comment_body = comment[\"body\"]\n",
    "            \n",
    "    return slug, task_name, task_description, accepted_comment_id, accepted_comment_body"
   ]
  },
  {
   "cell_type": "code",
   "execution_count": 24,
   "metadata": {},
   "outputs": [],
   "source": [
    "info = {}\n",
    "for link in links:\n",
    "    slug, name, description, comment_id, comment_body = get_assigned_comment(link)\n",
    "    info[slug] = [name, description, comment_id, comment_body]\n",
    "    \n"
   ]
  },
  {
   "cell_type": "code",
   "execution_count": null,
   "metadata": {},
   "outputs": [],
   "source": [
    "for slug in links:\n",
    "    try:\n",
    "        get_assigned_comment(slug)\n",
    "        print(\"-\"*40)\n",
    "    except:\n",
    "        pass"
   ]
  },
  {
   "cell_type": "code",
   "execution_count": 32,
   "metadata": {},
   "outputs": [
    {
     "data": {
      "text/plain": [
       "29"
      ]
     },
     "execution_count": 32,
     "metadata": {},
     "output_type": "execute_result"
    }
   ],
   "source": [
    "len(info.keys())"
   ]
  },
  {
   "cell_type": "code",
   "execution_count": 38,
   "metadata": {},
   "outputs": [],
   "source": [
    "import pandas as pd\n",
    "\n",
    "df = pd.DataFrame.from_dict(info, orient=\"index\")\n",
    "df.reset_index(drop=True, inplace=True)\n",
    "df.columns = [\"Name\", \"Description\", \"Comment_id\", \"Assgined comment\"]\n",
    "df.to_excel(\"completed_tasks.xlsx\")"
   ]
  },
  {
   "cell_type": "code",
   "execution_count": 35,
   "metadata": {},
   "outputs": [
    {
     "data": {
      "text/html": [
       "<div>\n",
       "<style scoped>\n",
       "    .dataframe tbody tr th:only-of-type {\n",
       "        vertical-align: middle;\n",
       "    }\n",
       "\n",
       "    .dataframe tbody tr th {\n",
       "        vertical-align: top;\n",
       "    }\n",
       "\n",
       "    .dataframe thead th {\n",
       "        text-align: right;\n",
       "    }\n",
       "</style>\n",
       "<table border=\"1\" class=\"dataframe\">\n",
       "  <thead>\n",
       "    <tr style=\"text-align: right;\">\n",
       "      <th></th>\n",
       "      <th>0</th>\n",
       "      <th>1</th>\n",
       "      <th>2</th>\n",
       "      <th>3</th>\n",
       "    </tr>\n",
       "  </thead>\n",
       "  <tbody>\n",
       "    <tr>\n",
       "      <th>en-resume-with-no-experience-x01j3cg2j5xvf4b3x561fckxzde</th>\n",
       "      <td>EN resume with no experience</td>\n",
       "      <td>Hello, just recently finished my enrolled nurs...</td>\n",
       "      <td>137668979</td>\n",
       "      <td>Hi Catherine\\nI am an HR manager that speciali...</td>\n",
       "    </tr>\n",
       "    <tr>\n",
       "      <th>general-resume-x01j3krey7s7z093j2f2enxrkxj</th>\n",
       "      <td>General  resume</td>\n",
       "      <td>Hi, I need a resume that I can use to apply fo...</td>\n",
       "      <td>137868833</td>\n",
       "      <td>Hello Nicholas,\\n\\nI am one of the top perform...</td>\n",
       "    </tr>\n",
       "    <tr>\n",
       "      <th>copy-doc-into-canva-template-immediately-x01j3kjp4ck2ce0nwd3g4amz68j</th>\n",
       "      <td>Copy Doc into Canva Template - Immediately</td>\n",
       "      <td>I need my resume copied over into a new templa...</td>\n",
       "      <td>137861247</td>\n",
       "      <td>I can do this right now.</td>\n",
       "    </tr>\n",
       "    <tr>\n",
       "      <th>help-with-my-resume-x01j3ht5rt9k7npmgf1jqq9mya0</th>\n",
       "      <td>Help with my resume</td>\n",
       "      <td>I really need help with my Resume. I’m a full-...</td>\n",
       "      <td>137825150</td>\n",
       "      <td>***Updated my offer to fit within your budget*...</td>\n",
       "    </tr>\n",
       "    <tr>\n",
       "      <th>convert-pdf-to-word-x01j3h3gk4f0qf6rb2dmbgdzfr8</th>\n",
       "      <td>Convert PDF to Word</td>\n",
       "      <td>I require my partners PDF resume to be convert...</td>\n",
       "      <td>137835963</td>\n",
       "      <td>Am happy to do this task  for you.</td>\n",
       "    </tr>\n",
       "  </tbody>\n",
       "</table>\n",
       "</div>"
      ],
      "text/plain": [
       "                                                                                             0  \\\n",
       "en-resume-with-no-experience-x01j3cg2j5xvf4b3x5...               EN resume with no experience    \n",
       "general-resume-x01j3krey7s7z093j2f2enxrkxj                                     General  resume   \n",
       "copy-doc-into-canva-template-immediately-x01j3k...  Copy Doc into Canva Template - Immediately   \n",
       "help-with-my-resume-x01j3ht5rt9k7npmgf1jqq9mya0                           Help with my resume    \n",
       "convert-pdf-to-word-x01j3h3gk4f0qf6rb2dmbgdzfr8                            Convert PDF to Word   \n",
       "\n",
       "                                                                                                    1  \\\n",
       "en-resume-with-no-experience-x01j3cg2j5xvf4b3x5...  Hello, just recently finished my enrolled nurs...   \n",
       "general-resume-x01j3krey7s7z093j2f2enxrkxj          Hi, I need a resume that I can use to apply fo...   \n",
       "copy-doc-into-canva-template-immediately-x01j3k...  I need my resume copied over into a new templa...   \n",
       "help-with-my-resume-x01j3ht5rt9k7npmgf1jqq9mya0     I really need help with my Resume. I’m a full-...   \n",
       "convert-pdf-to-word-x01j3h3gk4f0qf6rb2dmbgdzfr8     I require my partners PDF resume to be convert...   \n",
       "\n",
       "                                                            2  \\\n",
       "en-resume-with-no-experience-x01j3cg2j5xvf4b3x5...  137668979   \n",
       "general-resume-x01j3krey7s7z093j2f2enxrkxj          137868833   \n",
       "copy-doc-into-canva-template-immediately-x01j3k...  137861247   \n",
       "help-with-my-resume-x01j3ht5rt9k7npmgf1jqq9mya0     137825150   \n",
       "convert-pdf-to-word-x01j3h3gk4f0qf6rb2dmbgdzfr8     137835963   \n",
       "\n",
       "                                                                                                    3  \n",
       "en-resume-with-no-experience-x01j3cg2j5xvf4b3x5...  Hi Catherine\\nI am an HR manager that speciali...  \n",
       "general-resume-x01j3krey7s7z093j2f2enxrkxj          Hello Nicholas,\\n\\nI am one of the top perform...  \n",
       "copy-doc-into-canva-template-immediately-x01j3k...                           I can do this right now.  \n",
       "help-with-my-resume-x01j3ht5rt9k7npmgf1jqq9mya0     ***Updated my offer to fit within your budget*...  \n",
       "convert-pdf-to-word-x01j3h3gk4f0qf6rb2dmbgdzfr8                    Am happy to do this task  for you.  "
      ]
     },
     "execution_count": 35,
     "metadata": {},
     "output_type": "execute_result"
    }
   ],
   "source": [
    "df = df.transpose()\n",
    "df.head()"
   ]
  },
  {
   "cell_type": "code",
   "execution_count": 21,
   "metadata": {},
   "outputs": [
    {
     "name": "stdout",
     "output_type": "stream",
     "text": [
      "200\n",
      "401\n",
      "200\n",
      "200\n",
      "200\n"
     ]
    }
   ],
   "source": [
    "import requests\n",
    "import os\n",
    "from dotenv import load_dotenv\n",
    "import constants as c\n",
    "import pandas as pd\n",
    "import random\n",
    "import uuid\n",
    "from datetime import datetime\n",
    "\n",
    "load_dotenv()\n",
    "proxy_cred = os.getenv(\"HTTP_PROXY\")\n",
    "proxy = {\n",
    "    \"http\": f\"http://{proxy_cred}\",\n",
    "    \"https\": f\"http://{proxy_cred}\",\n",
    "}\n",
    "\n",
    "# URL de la solicitud\n",
    "url = \"https://www.airtasker.com/api/client/v1/experiences/post-task/post\"\n",
    "\n",
    "def post_task(title, description, price, at_sid):\n",
    "    payload = {\n",
    "    \"title\": title,\n",
    "    \"description\": description,\n",
    "    \"date_type\": \"flexible\",\n",
    "    \"price\": price,\n",
    "    \"date\": datetime.utcnow().isoformat() + 'Z',  # Generar la fecha actual en formato ISO 8601\n",
    "    \"location_type\": {\"type\": \"remote\"},\n",
    "    \"image_urls\": [],\n",
    "    \"origin\": \"header_post_task-v1\",\n",
    "    \"key\": str(uuid.uuid4()),  # Generar un UUID\n",
    "    \"attribution_data\": {},\n",
    "    \"request_quote_form\": []\n",
    "}\n",
    "    cookies = c.COOKIES\n",
    "    cookies[\"at_sid\"]= at_sid\n",
    "    response = requests.post(url, json=payload, headers=c.HEADERS, proxies=proxy, cookies=cookies)\n",
    "    return response\n",
    "    \n",
    "# df = pd.read_excel(\"users.xlsx\", index_col=0)\n",
    "\n",
    "# at_sids = list(df[\"at_sid\"])\n",
    "\n",
    "# r = post_task(random.choice(c.RESUME_TITLES), random.choice(c.RESUME_DESCRIPTIONS), 40, at_sids[3])\n",
    "# print(r.status_code)\n",
    "\n",
    "\n",
    "def change_profile_pic(picture_url, at_sid):\n",
    "    url = \"https://www.airtasker.com/api/v2/account/avatar?threaded_comments=true\"\n",
    "    img_r = requests.get(picture_url)\n",
    "    img_path = \"imgs/new_img.jpg\"\n",
    "    if img_r.status_code == 200:\n",
    "        with open(img_path, \"wb\") as file:\n",
    "            file.write(img_r.content)\n",
    "    cookies = c.COOKIES\n",
    "    cookies[\"at_sid\"] = at_sid\n",
    "    with open(img_path, \"rb\") as img:\n",
    "        files = {'attachments':img}\n",
    "        \n",
    "        r = requests.post(url, files=files, headers=c.HEADERS, cookies=cookies)\n",
    "        print(r.status_code)\n",
    "    \n",
    "    os.remove(img_path)\n",
    "    \n",
    "df = pd.read_excel(\"profiles.xlsx\", index_col=0)\n",
    "df = df[pd.notnull(df[\"Email\"])]\n",
    "for index, row in df.iterrows():\n",
    "    change_profile_pic(row[\"img\"], row[\"at_sid\"])\n",
    "\n"
   ]
  },
  {
   "cell_type": "code",
   "execution_count": 28,
   "metadata": {},
   "outputs": [],
   "source": [
    "import requests\n",
    "from dotenv import load_dotenv\n",
    "import os\n",
    "import constants as c\n",
    "\n",
    "load_dotenv()\n",
    "proxy_cred = os.getenv(\"HTTP_PROXY\")\n",
    "\n",
    "proxy = {\n",
    "    \"http\": f\"http://{proxy_cred}\",\n",
    "    \"https\": f\"http://{proxy_cred}\",\n",
    "}\n",
    "\n",
    "\n",
    "r = requests.get(\"https://id.airtasker.com/u/email-verification?ticket=ZWtc5CD6JCtms7kT42Mm2fjYWQXeHdpX#\", headers=c.HEADERS, proxies=proxy)\n"
   ]
  },
  {
   "cell_type": "code",
   "execution_count": 29,
   "metadata": {},
   "outputs": [
    {
     "data": {
      "text/plain": [
       "200"
      ]
     },
     "execution_count": 29,
     "metadata": {},
     "output_type": "execute_result"
    }
   ],
   "source": [
    "r.status_code"
   ]
  }
 ],
 "metadata": {
  "kernelspec": {
   "display_name": "Python 3",
   "language": "python",
   "name": "python3"
  },
  "language_info": {
   "codemirror_mode": {
    "name": "ipython",
    "version": 3
   },
   "file_extension": ".py",
   "mimetype": "text/x-python",
   "name": "python",
   "nbconvert_exporter": "python",
   "pygments_lexer": "ipython3",
   "version": "3.10.5"
  }
 },
 "nbformat": 4,
 "nbformat_minor": 2
}
