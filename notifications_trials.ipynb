{
 "cells": [
  {
   "cell_type": "code",
   "execution_count": 1,
   "metadata": {},
   "outputs": [],
   "source": [
    "import constants as c\n",
    "import requests\n",
    "import os\n",
    "import pandas as pd\n",
    "\n",
    "def get_last_notifications():\n",
    "    url = \"https://www.airtasker.com/api/client/v1/experiences/notification-feed/index?page_token=ChowMUo0UkMxRzQ4MUVLRUU1Mjg0R0FDVlJYQg%3D%3D\"\n",
    "    r = requests.get(url, headers=c.HEADERS, cookies=c.COOKIES, proxies=c.PROXY)\n",
    "    data = r.json()[\"data\"]\n",
    "    return data[\"notifications\"]\n",
    "\n",
    "\n",
    "x = get_last_notifications()\n"
   ]
  },
  {
   "cell_type": "code",
   "execution_count": 3,
   "metadata": {},
   "outputs": [
    {
     "ename": "ModuleNotFoundError",
     "evalue": "No module named 'browser_cookie3'",
     "output_type": "error",
     "traceback": [
      "\u001b[1;31m---------------------------------------------------------------------------\u001b[0m",
      "\u001b[1;31mModuleNotFoundError\u001b[0m                       Traceback (most recent call last)",
      "Input \u001b[1;32mIn [3]\u001b[0m, in \u001b[0;36m<cell line: 2>\u001b[1;34m()\u001b[0m\n\u001b[0;32m      1\u001b[0m \u001b[38;5;28;01mimport\u001b[39;00m \u001b[38;5;21;01mpickle\u001b[39;00m\n\u001b[1;32m----> 2\u001b[0m \u001b[38;5;28;01mimport\u001b[39;00m \u001b[38;5;21;01mbrowser_cookie3\u001b[39;00m\n\u001b[0;32m      4\u001b[0m \u001b[38;5;66;03m# Specify the domain you want to extract cookies for\u001b[39;00m\n\u001b[0;32m      5\u001b[0m domain \u001b[38;5;241m=\u001b[39m \u001b[38;5;124m\"\u001b[39m\u001b[38;5;124mairtasker.com\u001b[39m\u001b[38;5;124m\"\u001b[39m  \u001b[38;5;66;03m# Replace with the actual domain\u001b[39;00m\n",
      "\u001b[1;31mModuleNotFoundError\u001b[0m: No module named 'browser_cookie3'"
     ]
    }
   ],
   "source": [
    "import pickle\n",
    "import browser_cookie3\n",
    "\n",
    "# Specify the domain you want to extract cookies for\n",
    "domain = \"airtasker.com\"  # Replace with the actual domain\n",
    "\n",
    "# Load cookies from the user's browser\n",
    "# This will load cookies from all supported browsers\n",
    "cookies = browser_cookie3.load()\n",
    "\n",
    "# Filter cookies for the specified domain\n",
    "domain_cookies = [cookie for cookie in cookies if domain in cookie.domain]\n",
    "\n",
    "# Save the filtered cookies to a file using pickle\n",
    "with open('cookies.pkl', 'wb') as f:\n",
    "    pickle.dump(domain_cookies, f)\n",
    "\n",
    "print(f\"Cookies for {domain} have been saved to cookies.pkl\")"
   ]
  },
  {
   "cell_type": "code",
   "execution_count": 34,
   "metadata": {},
   "outputs": [],
   "source": [
    "import os\n",
    "import pandas as pd\n",
    "\n",
    "data = x\n",
    "notifications = data[\"notifications\"]\n",
    "assigned_tasks = []\n",
    "for notification in notifications:\n",
    "    if \"has assigned you\" in notification[\"segments\"][1][\"text\"]:\n",
    "        task_slug = notification[\"segments\"][2][\"route\"]\n",
    "        assigned_tasks.append(task_slug)\n",
    "        \n",
    "previous_notifications = []\n",
    "if os.path.exists(\"notifications.xlsx\"):\n",
    "    df = pd.read_excel(\"notifications.xlsx\", index_col=0)\n",
    "    previous_notifications = list(df[\"notifications\"])\n",
    "\n",
    "for assigned_task in assigned_tasks:\n",
    "    if assigned_task not in previous_notifications:\n",
    "        previous_notifications.append(assigned_task)\n",
    "        \n",
    "    \n",
    "new_df = pd.DataFrame(data=[previous_notifications], columns=[\"notifications\"])\n",
    "new_df.to_excel(\"notifications.xlsx\")\n",
    "        \n"
   ]
  },
  {
   "cell_type": "code",
   "execution_count": 36,
   "metadata": {},
   "outputs": [
    {
     "name": "stdout",
     "output_type": "stream",
     "text": [
      "build-a-website-x01j4w15prnv0z1rxpq2znxpdx4\n"
     ]
    }
   ],
   "source": [
    "def get_task_slug(task_link_id):\n",
    "    url = f\"https://www.airtasker.com/api/v2/tasks/{task_link_id}/\"\n",
    "    r = requests.get(url, headers=c.HEADERS, proxies=c.PROXY)\n",
    "    data = r.json()\n",
    "    slug = data[\"task\"][\"slug\"]\n",
    "    return slug\n",
    "\n",
    "print(get_task_slug(\"01j4w15prnv0z1rxpq2znxpdx4\"))\n",
    "    \n",
    "    "
   ]
  },
  {
   "cell_type": "code",
   "execution_count": 40,
   "metadata": {},
   "outputs": [],
   "source": [
    "def send_message(slug, message):\n",
    "    url = f\"https://www.airtasker.com/api/v2/tasks/{slug}/private_messages?threaded_comments=true\"\n",
    "    payload = {\"private_message\":{\"body\":message}}\n",
    "    r = requests.post(url, json=payload,cookies=c.COOKIES, headers=c.HEADERS, proxies=c.PROXY)\n",
    "    return r\n",
    "\n",
    "x = send_message(\"extract-data-from-online-website-and-add-into-spreadsheet-x01hr5v1gzn3mtsafvd1dw4exnx\", \"Is everything alright?\")"
   ]
  },
  {
   "cell_type": "code",
   "execution_count": 41,
   "metadata": {},
   "outputs": [
    {
     "data": {
      "text/plain": [
       "'OK'"
      ]
     },
     "execution_count": 41,
     "metadata": {},
     "output_type": "execute_result"
    }
   ],
   "source": [
    "x.reason"
   ]
  }
 ],
 "metadata": {
  "kernelspec": {
   "display_name": "Python 3",
   "language": "python",
   "name": "python3"
  },
  "language_info": {
   "codemirror_mode": {
    "name": "ipython",
    "version": 3
   },
   "file_extension": ".py",
   "mimetype": "text/x-python",
   "name": "python",
   "nbconvert_exporter": "python",
   "pygments_lexer": "ipython3",
   "version": "3.10.5"
  }
 },
 "nbformat": 4,
 "nbformat_minor": 2
}
